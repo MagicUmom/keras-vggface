{
 "cells": [
  {
   "cell_type": "code",
   "execution_count": 1,
   "metadata": {},
   "outputs": [],
   "source": [
    "import os\n",
    "import cv2\n",
    "import pandas as pd\n",
    "from glob import glob\n",
    "\n",
    "from sklearn.utils import shuffle\n",
    "from sklearn.model_selection import train_test_split\n",
    "import matplotlib.pyplot as plt\n",
    "\n",
    "from time import time"
   ]
  },
  {
   "cell_type": "code",
   "execution_count": 2,
   "metadata": {},
   "outputs": [
    {
     "name": "stdout",
     "output_type": "stream",
     "text": [
      "['img-submission.csv', 'mid_term_mapping.txt', 'testset', 'train']\n"
     ]
    }
   ],
   "source": [
    "data_dir_path = '/data/examples/may_the_4_be_with_u/where_am_i'\n",
    "print(os.listdir(data_dir_path))"
   ]
  },
  {
   "cell_type": "code",
   "execution_count": 3,
   "metadata": {},
   "outputs": [
    {
     "data": {
      "text/html": [
       "<div>\n",
       "<table border=\"1\" class=\"dataframe\">\n",
       "  <thead>\n",
       "    <tr style=\"text-align: right;\">\n",
       "      <th></th>\n",
       "      <th>class</th>\n",
       "      <th>index</th>\n",
       "    </tr>\n",
       "  </thead>\n",
       "  <tbody>\n",
       "    <tr>\n",
       "      <th>0</th>\n",
       "      <td>CALsuburb</td>\n",
       "      <td>9</td>\n",
       "    </tr>\n",
       "    <tr>\n",
       "      <th>1</th>\n",
       "      <td>PARoffice</td>\n",
       "      <td>7</td>\n",
       "    </tr>\n",
       "    <tr>\n",
       "      <th>2</th>\n",
       "      <td>bedroom</td>\n",
       "      <td>12</td>\n",
       "    </tr>\n",
       "    <tr>\n",
       "      <th>3</th>\n",
       "      <td>coast</td>\n",
       "      <td>10</td>\n",
       "    </tr>\n",
       "    <tr>\n",
       "      <th>4</th>\n",
       "      <td>forest</td>\n",
       "      <td>4</td>\n",
       "    </tr>\n",
       "    <tr>\n",
       "      <th>5</th>\n",
       "      <td>highway</td>\n",
       "      <td>14</td>\n",
       "    </tr>\n",
       "    <tr>\n",
       "      <th>6</th>\n",
       "      <td>industrial</td>\n",
       "      <td>2</td>\n",
       "    </tr>\n",
       "    <tr>\n",
       "      <th>7</th>\n",
       "      <td>insidecity</td>\n",
       "      <td>3</td>\n",
       "    </tr>\n",
       "    <tr>\n",
       "      <th>8</th>\n",
       "      <td>kitchen</td>\n",
       "      <td>0</td>\n",
       "    </tr>\n",
       "    <tr>\n",
       "      <th>9</th>\n",
       "      <td>livingroom</td>\n",
       "      <td>5</td>\n",
       "    </tr>\n",
       "    <tr>\n",
       "      <th>10</th>\n",
       "      <td>mountain</td>\n",
       "      <td>8</td>\n",
       "    </tr>\n",
       "    <tr>\n",
       "      <th>11</th>\n",
       "      <td>opencountry</td>\n",
       "      <td>6</td>\n",
       "    </tr>\n",
       "    <tr>\n",
       "      <th>12</th>\n",
       "      <td>store</td>\n",
       "      <td>11</td>\n",
       "    </tr>\n",
       "    <tr>\n",
       "      <th>13</th>\n",
       "      <td>street</td>\n",
       "      <td>1</td>\n",
       "    </tr>\n",
       "    <tr>\n",
       "      <th>14</th>\n",
       "      <td>tallbuilding</td>\n",
       "      <td>13</td>\n",
       "    </tr>\n",
       "  </tbody>\n",
       "</table>\n",
       "</div>"
      ],
      "text/plain": [
       "           class  index\n",
       "0      CALsuburb      9\n",
       "1      PARoffice      7\n",
       "2        bedroom     12\n",
       "3          coast     10\n",
       "4         forest      4\n",
       "5        highway     14\n",
       "6     industrial      2\n",
       "7     insidecity      3\n",
       "8        kitchen      0\n",
       "9     livingroom      5\n",
       "10      mountain      8\n",
       "11   opencountry      6\n",
       "12         store     11\n",
       "13        street      1\n",
       "14  tallbuilding     13"
      ]
     },
     "execution_count": 3,
     "metadata": {},
     "output_type": "execute_result"
    }
   ],
   "source": [
    "target_label_file_name = 'mid_term_mapping.txt'\n",
    "targetlist = pd.read_csv(data_dir_path+\"/\"+target_label_file_name,names=['class','index'])\n",
    "targetlist"
   ]
  },
  {
   "cell_type": "code",
   "execution_count": 4,
   "metadata": {},
   "outputs": [
    {
     "data": {
      "text/plain": [
       "{'CALsuburb': 9,\n",
       " 'PARoffice': 7,\n",
       " 'bedroom': 12,\n",
       " 'coast': 10,\n",
       " 'forest': 4,\n",
       " 'highway': 14,\n",
       " 'industrial': 2,\n",
       " 'insidecity': 3,\n",
       " 'kitchen': 0,\n",
       " 'livingroom': 5,\n",
       " 'mountain': 8,\n",
       " 'opencountry': 6,\n",
       " 'store': 11,\n",
       " 'street': 1,\n",
       " 'tallbuilding': 13}"
      ]
     },
     "execution_count": 4,
     "metadata": {},
     "output_type": "execute_result"
    }
   ],
   "source": [
    "maplist=dict(zip(targetlist['class'],targetlist['index']))\n",
    "maplist"
   ]
  },
  {
   "cell_type": "code",
   "execution_count": 5,
   "metadata": {},
   "outputs": [],
   "source": [
    "train_path = data_dir_path + '/train/'\n",
    "train_dir = list(os.listdir(train_path))"
   ]
  },
  {
   "cell_type": "code",
   "execution_count": 6,
   "metadata": {},
   "outputs": [
    {
     "data": {
      "text/html": [
       "<div>\n",
       "<table border=\"1\" class=\"dataframe\">\n",
       "  <thead>\n",
       "    <tr style=\"text-align: right;\">\n",
       "      <th></th>\n",
       "      <th>class</th>\n",
       "      <th>path</th>\n",
       "    </tr>\n",
       "  </thead>\n",
       "  <tbody>\n",
       "    <tr>\n",
       "      <th>0</th>\n",
       "      <td>9</td>\n",
       "      <td>/data/examples/may_the_4_be_with_u/where_am_i/...</td>\n",
       "    </tr>\n",
       "    <tr>\n",
       "      <th>1</th>\n",
       "      <td>9</td>\n",
       "      <td>/data/examples/may_the_4_be_with_u/where_am_i/...</td>\n",
       "    </tr>\n",
       "    <tr>\n",
       "      <th>2</th>\n",
       "      <td>9</td>\n",
       "      <td>/data/examples/may_the_4_be_with_u/where_am_i/...</td>\n",
       "    </tr>\n",
       "    <tr>\n",
       "      <th>3</th>\n",
       "      <td>9</td>\n",
       "      <td>/data/examples/may_the_4_be_with_u/where_am_i/...</td>\n",
       "    </tr>\n",
       "    <tr>\n",
       "      <th>4</th>\n",
       "      <td>9</td>\n",
       "      <td>/data/examples/may_the_4_be_with_u/where_am_i/...</td>\n",
       "    </tr>\n",
       "  </tbody>\n",
       "</table>\n",
       "</div>"
      ],
      "text/plain": [
       "   class                                               path\n",
       "0      9  /data/examples/may_the_4_be_with_u/where_am_i/...\n",
       "1      9  /data/examples/may_the_4_be_with_u/where_am_i/...\n",
       "2      9  /data/examples/may_the_4_be_with_u/where_am_i/...\n",
       "3      9  /data/examples/may_the_4_be_with_u/where_am_i/...\n",
       "4      9  /data/examples/may_the_4_be_with_u/where_am_i/..."
      ]
     },
     "execution_count": 6,
     "metadata": {},
     "output_type": "execute_result"
    }
   ],
   "source": [
    "file_key = []\n",
    "file_name = []\n",
    "for i,n in enumerate(train_dir):\n",
    "    ff = glob(train_path+n+\"/*.jpg\")\n",
    "    for f in ff:\n",
    "        file_key.append(maplist[n])\n",
    "        file_name.append(f)\n",
    "data_list = pd.DataFrame({'class': file_key, 'path': file_name}) #把資料的連結存入list內，可以快速使用\n",
    "data_list.head()"
   ]
  },
  {
   "cell_type": "markdown",
   "metadata": {},
   "source": [
    "## Shuffle and split the list into training set and validation set"
   ]
  },
  {
   "cell_type": "code",
   "execution_count": 7,
   "metadata": {},
   "outputs": [
    {
     "data": {
      "text/html": [
       "<div>\n",
       "<table border=\"1\" class=\"dataframe\">\n",
       "  <thead>\n",
       "    <tr style=\"text-align: right;\">\n",
       "      <th></th>\n",
       "      <th>class</th>\n",
       "      <th>path</th>\n",
       "    </tr>\n",
       "  </thead>\n",
       "  <tbody>\n",
       "    <tr>\n",
       "      <th>17</th>\n",
       "      <td>9</td>\n",
       "      <td>/data/examples/may_the_4_be_with_u/where_am_i/...</td>\n",
       "    </tr>\n",
       "    <tr>\n",
       "      <th>155</th>\n",
       "      <td>7</td>\n",
       "      <td>/data/examples/may_the_4_be_with_u/where_am_i/...</td>\n",
       "    </tr>\n",
       "    <tr>\n",
       "      <th>966</th>\n",
       "      <td>14</td>\n",
       "      <td>/data/examples/may_the_4_be_with_u/where_am_i/...</td>\n",
       "    </tr>\n",
       "    <tr>\n",
       "      <th>2235</th>\n",
       "      <td>6</td>\n",
       "      <td>/data/examples/may_the_4_be_with_u/where_am_i/...</td>\n",
       "    </tr>\n",
       "    <tr>\n",
       "      <th>955</th>\n",
       "      <td>14</td>\n",
       "      <td>/data/examples/may_the_4_be_with_u/where_am_i/...</td>\n",
       "    </tr>\n",
       "    <tr>\n",
       "      <th>1703</th>\n",
       "      <td>5</td>\n",
       "      <td>/data/examples/may_the_4_be_with_u/where_am_i/...</td>\n",
       "    </tr>\n",
       "    <tr>\n",
       "      <th>2635</th>\n",
       "      <td>1</td>\n",
       "      <td>/data/examples/may_the_4_be_with_u/where_am_i/...</td>\n",
       "    </tr>\n",
       "    <tr>\n",
       "      <th>2764</th>\n",
       "      <td>13</td>\n",
       "      <td>/data/examples/may_the_4_be_with_u/where_am_i/...</td>\n",
       "    </tr>\n",
       "    <tr>\n",
       "      <th>475</th>\n",
       "      <td>10</td>\n",
       "      <td>/data/examples/may_the_4_be_with_u/where_am_i/...</td>\n",
       "    </tr>\n",
       "    <tr>\n",
       "      <th>1677</th>\n",
       "      <td>5</td>\n",
       "      <td>/data/examples/may_the_4_be_with_u/where_am_i/...</td>\n",
       "    </tr>\n",
       "  </tbody>\n",
       "</table>\n",
       "</div>"
      ],
      "text/plain": [
       "      class                                               path\n",
       "17        9  /data/examples/may_the_4_be_with_u/where_am_i/...\n",
       "155       7  /data/examples/may_the_4_be_with_u/where_am_i/...\n",
       "966      14  /data/examples/may_the_4_be_with_u/where_am_i/...\n",
       "2235      6  /data/examples/may_the_4_be_with_u/where_am_i/...\n",
       "955      14  /data/examples/may_the_4_be_with_u/where_am_i/...\n",
       "1703      5  /data/examples/may_the_4_be_with_u/where_am_i/...\n",
       "2635      1  /data/examples/may_the_4_be_with_u/where_am_i/...\n",
       "2764     13  /data/examples/may_the_4_be_with_u/where_am_i/...\n",
       "475      10  /data/examples/may_the_4_be_with_u/where_am_i/...\n",
       "1677      5  /data/examples/may_the_4_be_with_u/where_am_i/..."
      ]
     },
     "execution_count": 7,
     "metadata": {},
     "output_type": "execute_result"
    }
   ],
   "source": [
    "# 將資料清單隨機打亂\n",
    "rand_seed = int(time())\n",
    "data_list = shuffle(data_list, random_state=rand_seed)\n",
    "data_list.head(10)"
   ]
  },
  {
   "cell_type": "code",
   "execution_count": 8,
   "metadata": {
    "scrolled": false
   },
   "outputs": [
    {
     "name": "stdout",
     "output_type": "stream",
     "text": [
      "(2686, 2)\n",
      "(299, 2)\n",
      "(2985, 2)\n"
     ]
    }
   ],
   "source": [
    "#切割資料\n",
    "train_size = 0.9\n",
    "df_train, df_valid = data_list[:int(len(data_list)*train_size)], data_list[int(len(data_list)*train_size):]\n",
    "# print(int(len(data_list)*train_size) )\n",
    "print(df_train.shape)\n",
    "print(df_valid.shape)\n",
    "print(data_list.shape)\n"
   ]
  },
  {
   "cell_type": "code",
   "execution_count": 9,
   "metadata": {},
   "outputs": [],
   "source": [
    "mydir = 'data_tmp' #copy到自己資料夾的母資料夾名稱\n",
    "train_dir = mydir + '/train/' # 等等要將資料copy到自己的訓練資料夾\n",
    "valid_dir = mydir + '/valid/' # 等等要將資料copy到自己的驗證資料夾\n",
    "\n",
    "if not os.path.isdir(os.getcwd()+'/'+mydir) :\n",
    "    try: \n",
    "        os.mkdir(mydir)\n",
    "        os.mkdir(train_dir)\n",
    "        os.mkdir(valid_dir)\n",
    "    except: \n",
    "        print(\"create dir %s fail\",mydir)\n"
   ]
  },
  {
   "cell_type": "code",
   "execution_count": 10,
   "metadata": {
    "scrolled": true
   },
   "outputs": [
    {
     "name": "stderr",
     "output_type": "stream",
     "text": [
      "/opt/conda/lib/python3.6/site-packages/ipykernel_launcher.py:7: SettingWithCopyWarning: \n",
      "A value is trying to be set on a copy of a slice from a DataFrame.\n",
      "Try using .loc[row_indexer,col_indexer] = value instead\n",
      "\n",
      "See the caveats in the documentation: http://pandas.pydata.org/pandas-docs/stable/indexing.html#indexing-view-versus-copy\n",
      "  import sys\n",
      "/opt/conda/lib/python3.6/site-packages/ipykernel_launcher.py:8: SettingWithCopyWarning: \n",
      "A value is trying to be set on a copy of a slice from a DataFrame.\n",
      "Try using .loc[row_indexer,col_indexer] = value instead\n",
      "\n",
      "See the caveats in the documentation: http://pandas.pydata.org/pandas-docs/stable/indexing.html#indexing-view-versus-copy\n",
      "  \n"
     ]
    }
   ],
   "source": [
    "from shutil import copyfile\n",
    "\n",
    "# df_train.path[0].split(\"/\")[-1] # filename\n",
    "def newPath(oldPath):\n",
    "    return oldPath.split(\"/\")[-2] + '/' + oldPath.split(\"/\")[-1]\n",
    "\n",
    "df_train['newPath']= df_train.apply(lambda row: train_dir + newPath(row['path']) ,axis=1)\n",
    "df_valid['newPath']= df_valid.apply(lambda row: valid_dir + newPath(row['path']) ,axis=1)\n",
    "\n",
    "# copyfile(src, dst)\n",
    "# for i in range(len(df_train)):\n",
    "#     copyfile(df_train.path[i], train_dir + \"train_\" + df_train.path[i].split(\"/\")[-1] + \".jpg\")\n",
    "#     print(x_train.path.index(i))\n",
    "#     print(df_train.path[i])\n",
    "# for i in range(len(x_valid)):\n",
    "#     copyfile(x_valid.path[i], valid_dir + \"valid_\" + str(i) + \".jpg\")"
   ]
  },
  {
   "cell_type": "code",
   "execution_count": 11,
   "metadata": {
    "scrolled": true
   },
   "outputs": [],
   "source": [
    "def copyfileToDir(oldPath,newPath):\n",
    "    try:\n",
    "        copyfile(oldPath,newPath)\n",
    "    except:\n",
    "        try:\n",
    "            if not os.path.exists('/'.join(newPath.split('/')[:-1])):\n",
    "                os.makedirs('/'.join(newPath.split('/')[:-1]))\n",
    "                copyfile(oldPath,newPath)\n",
    "        except:\n",
    "            print(\"mkdir error!\")\n",
    "    \n",
    "## copy file to my dir \n",
    "## ------------- 只做一次 ，需要複製的時候再把以下註解解開 ------------- ##\n",
    "\n",
    "# df_train.apply(lambda row: copyfileToDir(row['path'] , row['newPath']) ,axis=1)\n",
    "# df_valid.apply(lambda row: copyfileToDir(row['path'] , row['newPath']) ,axis=1)\n",
    "\n",
    "## ------------- 只做一次 ，需要複製的時候再把以上註解解開 ------------- ##\n"
   ]
  },
  {
   "cell_type": "markdown",
   "metadata": {},
   "source": [
    "### TEST\n"
   ]
  },
  {
   "cell_type": "markdown",
   "metadata": {},
   "source": [
    "## Data augmentation"
   ]
  },
  {
   "cell_type": "code",
   "execution_count": 12,
   "metadata": {},
   "outputs": [],
   "source": [
    "img_height, img_width = 256,256\n",
    "batch_size = 30"
   ]
  },
  {
   "cell_type": "code",
   "execution_count": 13,
   "metadata": {},
   "outputs": [
    {
     "name": "stderr",
     "output_type": "stream",
     "text": [
      "Using TensorFlow backend.\n"
     ]
    },
    {
     "name": "stdout",
     "output_type": "stream",
     "text": [
      "Found 2686 images belonging to 15 classes.\n",
      "Found 299 images belonging to 15 classes.\n"
     ]
    }
   ],
   "source": [
    "from keras.preprocessing.image import ImageDataGenerator\n",
    "\n",
    "train_datagen = ImageDataGenerator(rotation_range=30, \n",
    "                                   rescale=1./255,\n",
    "                                   shear_range=0.2,\n",
    "                                   zoom_range=0.2,\n",
    "                                   horizontal_flip=True)\n",
    "train_generator = train_datagen.flow_from_directory(train_dir,\n",
    "                                                    target_size=(img_height, img_width),\n",
    "                                                    batch_size=batch_size,\n",
    "                                                    class_mode='categorical')\n",
    "\n",
    "valid_datagen = ImageDataGenerator(rescale=1./255)\n",
    "valid_generator = valid_datagen.flow_from_directory(valid_dir,\n",
    "                                                    target_size=(img_height, img_width),\n",
    "                                                    batch_size=batch_size,\n",
    "                                                    class_mode='categorical')\n"
   ]
  },
  {
   "cell_type": "code",
   "execution_count": 14,
   "metadata": {},
   "outputs": [
    {
     "data": {
      "text/plain": [
       "{'CALsuburb': 0,\n",
       " 'PARoffice': 1,\n",
       " 'bedroom': 2,\n",
       " 'coast': 3,\n",
       " 'forest': 4,\n",
       " 'highway': 5,\n",
       " 'industrial': 6,\n",
       " 'insidecity': 7,\n",
       " 'kitchen': 8,\n",
       " 'livingroom': 9,\n",
       " 'mountain': 10,\n",
       " 'opencountry': 11,\n",
       " 'store': 12,\n",
       " 'street': 13,\n",
       " 'tallbuilding': 14}"
      ]
     },
     "execution_count": 14,
     "metadata": {},
     "output_type": "execute_result"
    }
   ],
   "source": [
    "train_generator.class_indices"
   ]
  },
  {
   "cell_type": "markdown",
   "metadata": {},
   "source": [
    "### Transfer Learning"
   ]
  },
  {
   "cell_type": "code",
   "execution_count": 15,
   "metadata": {},
   "outputs": [],
   "source": [
    "fc1_hidden = 512\n",
    "fc2_hidden = 256\n",
    "fc3_hidden = 128\n",
    "num_class = 15\n",
    "lr = 0.001\n",
    "momentum=0.9\n",
    "epoch = 30"
   ]
  },
  {
   "cell_type": "code",
   "execution_count": 16,
   "metadata": {
    "scrolled": true
   },
   "outputs": [
    {
     "name": "stdout",
     "output_type": "stream",
     "text": [
      "_________________________________________________________________\n",
      "Layer (type)                 Output Shape              Param #   \n",
      "=================================================================\n",
      "input_1 (InputLayer)         (None, None, None, 3)     0         \n",
      "_________________________________________________________________\n",
      "block1_conv1 (Conv2D)        (None, None, None, 64)    1792      \n",
      "_________________________________________________________________\n",
      "block1_conv2 (Conv2D)        (None, None, None, 64)    36928     \n",
      "_________________________________________________________________\n",
      "block1_pool (MaxPooling2D)   (None, None, None, 64)    0         \n",
      "_________________________________________________________________\n",
      "block2_conv1 (Conv2D)        (None, None, None, 128)   73856     \n",
      "_________________________________________________________________\n",
      "block2_conv2 (Conv2D)        (None, None, None, 128)   147584    \n",
      "_________________________________________________________________\n",
      "block2_pool (MaxPooling2D)   (None, None, None, 128)   0         \n",
      "_________________________________________________________________\n",
      "block3_conv1 (Conv2D)        (None, None, None, 256)   295168    \n",
      "_________________________________________________________________\n",
      "block3_conv2 (Conv2D)        (None, None, None, 256)   590080    \n",
      "_________________________________________________________________\n",
      "block3_conv3 (Conv2D)        (None, None, None, 256)   590080    \n",
      "_________________________________________________________________\n",
      "block3_pool (MaxPooling2D)   (None, None, None, 256)   0         \n",
      "_________________________________________________________________\n",
      "block4_conv1 (Conv2D)        (None, None, None, 512)   1180160   \n",
      "_________________________________________________________________\n",
      "block4_conv2 (Conv2D)        (None, None, None, 512)   2359808   \n",
      "_________________________________________________________________\n",
      "block4_conv3 (Conv2D)        (None, None, None, 512)   2359808   \n",
      "_________________________________________________________________\n",
      "block4_pool (MaxPooling2D)   (None, None, None, 512)   0         \n",
      "_________________________________________________________________\n",
      "block5_conv1 (Conv2D)        (None, None, None, 512)   2359808   \n",
      "_________________________________________________________________\n",
      "block5_conv2 (Conv2D)        (None, None, None, 512)   2359808   \n",
      "_________________________________________________________________\n",
      "block5_conv3 (Conv2D)        (None, None, None, 512)   2359808   \n",
      "_________________________________________________________________\n",
      "block5_pool (MaxPooling2D)   (None, None, None, 512)   0         \n",
      "_________________________________________________________________\n",
      "global_average_pooling2d_1 ( (None, 512)               0         \n",
      "_________________________________________________________________\n",
      "dense_1 (Dense)              (None, 512)               262656    \n",
      "_________________________________________________________________\n",
      "dense_2 (Dense)              (None, 256)               131328    \n",
      "_________________________________________________________________\n",
      "dense_3 (Dense)              (None, 128)               32896     \n",
      "_________________________________________________________________\n",
      "dense_4 (Dense)              (None, 15)                1935      \n",
      "=================================================================\n",
      "Total params: 15,143,503\n",
      "Trainable params: 15,143,503\n",
      "Non-trainable params: 0\n",
      "_________________________________________________________________\n"
     ]
    }
   ],
   "source": [
    "import keras\n",
    "from keras.models import Sequential, load_model, Model\n",
    "from keras.layers import Dense, Dropout, Activation, Flatten\n",
    "from keras.layers import Conv2D, MaxPooling2D, BatchNormalization\n",
    "from keras.callbacks import EarlyStopping, ModelCheckpoint\n",
    "\n",
    "VGG16_base = keras.applications.VGG16(weights='imagenet', include_top=False)\n",
    "\n",
    "x = VGG16_base.output\n",
    "x = keras.layers.GlobalAveragePooling2D()(x)\n",
    "x = keras.layers.Dense(fc1_hidden,activation='relu')(x)\n",
    "x = keras.layers.Dense(fc2_hidden,activation='relu')(x)\n",
    "x = keras.layers.Dense(fc3_hidden,activation='relu')(x)\n",
    "\n",
    "predictions = Dense(num_class, activation='softmax')(x)\n",
    "\n",
    "VGG16_transfer = Model(inputs=VGG16_base.input, outputs=predictions)\n",
    "\n",
    "VGG16_transfer.compile(loss = 'categorical_crossentropy',\n",
    "                       optimizer = keras.optimizers.SGD(lr=lr, momentum=momentum),\n",
    "                       metrics=['accuracy'])\n",
    "\n",
    "VGG16_transfer.summary()"
   ]
  },
  {
   "cell_type": "code",
   "execution_count": 17,
   "metadata": {},
   "outputs": [
    {
     "name": "stdout",
     "output_type": "stream",
     "text": [
      "Epoch 1/30\n",
      "90/90 [==============================] - 38s 428ms/step - loss: 2.2163 - acc: 0.2776 - val_loss: 1.7518 - val_acc: 0.4247\n",
      "Epoch 2/30\n",
      "90/90 [==============================] - 34s 378ms/step - loss: 1.3724 - acc: 0.5222 - val_loss: 1.1230 - val_acc: 0.5853\n",
      "Epoch 3/30\n",
      "90/90 [==============================] - 34s 378ms/step - loss: 1.0649 - acc: 0.6153 - val_loss: 0.9129 - val_acc: 0.6488\n",
      "Epoch 4/30\n",
      "90/90 [==============================] - 34s 380ms/step - loss: 0.8689 - acc: 0.6989 - val_loss: 0.7758 - val_acc: 0.7525\n",
      "Epoch 5/30\n",
      "90/90 [==============================] - 34s 382ms/step - loss: 0.7905 - acc: 0.7264 - val_loss: 0.6853 - val_acc: 0.7659\n",
      "Epoch 6/30\n",
      "90/90 [==============================] - 34s 383ms/step - loss: 0.6402 - acc: 0.7820 - val_loss: 0.5963 - val_acc: 0.7893\n",
      "Epoch 7/30\n",
      "90/90 [==============================] - 34s 383ms/step - loss: 0.5843 - acc: 0.7988 - val_loss: 0.5705 - val_acc: 0.7960\n",
      "Epoch 8/30\n",
      "90/90 [==============================] - 34s 383ms/step - loss: 0.5320 - acc: 0.8119 - val_loss: 0.6828 - val_acc: 0.7692\n",
      "Epoch 9/30\n",
      "90/90 [==============================] - 34s 383ms/step - loss: 0.4823 - acc: 0.8240 - val_loss: 0.5132 - val_acc: 0.7960\n",
      "Epoch 10/30\n",
      "90/90 [==============================] - 34s 383ms/step - loss: 0.4896 - acc: 0.8256 - val_loss: 0.5913 - val_acc: 0.8094\n",
      "Epoch 11/30\n",
      "90/90 [==============================] - 34s 383ms/step - loss: 0.4095 - acc: 0.8586 - val_loss: 0.5310 - val_acc: 0.8060\n",
      "Epoch 12/30\n",
      "90/90 [==============================] - 34s 383ms/step - loss: 0.4195 - acc: 0.8526 - val_loss: 0.4635 - val_acc: 0.8462\n",
      "Epoch 13/30\n",
      "90/90 [==============================] - 34s 382ms/step - loss: 0.3265 - acc: 0.8831 - val_loss: 0.4256 - val_acc: 0.8328\n",
      "Epoch 14/30\n",
      "90/90 [==============================] - 34s 383ms/step - loss: 0.3172 - acc: 0.8827 - val_loss: 0.7490 - val_acc: 0.7826\n",
      "Epoch 15/30\n",
      "90/90 [==============================] - 34s 383ms/step - loss: 0.3520 - acc: 0.8748 - val_loss: 0.4262 - val_acc: 0.8328\n",
      "Epoch 16/30\n",
      "90/90 [==============================] - 35s 384ms/step - loss: 0.3161 - acc: 0.8868 - val_loss: 0.4945 - val_acc: 0.8328\n",
      "Epoch 17/30\n",
      "90/90 [==============================] - 34s 383ms/step - loss: 0.2900 - acc: 0.8986 - val_loss: 0.4276 - val_acc: 0.8395\n",
      "Epoch 18/30\n",
      "90/90 [==============================] - 34s 383ms/step - loss: 0.2383 - acc: 0.9182 - val_loss: 0.4690 - val_acc: 0.8562\n",
      "Epoch 00018: early stopping\n"
     ]
    }
   ],
   "source": [
    "earlystop = EarlyStopping(monitor='val_loss', patience=5, verbose=1)\n",
    "\n",
    "history_VGG16 = VGG16_transfer.fit_generator(train_generator,\n",
    "                                             epochs=epoch,\n",
    "                                             shuffle=True,\n",
    "                                             verbose=1,\n",
    "                                             callbacks=[earlystop],\n",
    "                                             validation_data=valid_generator)\n",
    "\n",
    "model_path = mydir + '/VGG16_where_am_i.h5'\n",
    "VGG16_transfer.save(model_path)\n"
   ]
  },
  {
   "cell_type": "code",
   "execution_count": 18,
   "metadata": {},
   "outputs": [
    {
     "data": {
      "image/png": "[encoded data removed]",
      "text/plain": [
       "<matplotlib.figure.Figure at 0x7fe7e0c86320>"
      ]
     },
     "metadata": {},
     "output_type": "display_data"
    }
   ],
   "source": [
    "training_loss = history_VGG16.history['loss']\n",
    "val_loss = history_VGG16.history['val_loss']\n",
    "\n",
    "plt.plot(training_loss, label=\"training_loss\")\n",
    "plt.plot(val_loss, label=\"validation_loss\")\n",
    "plt.xlabel(\"Epochs\")\n",
    "plt.ylabel(\"Loss\")\n",
    "plt.title(\"Learning Curve\")\n",
    "plt.legend(loc='best')\n",
    "plt.show()"
   ]
  },
  {
   "cell_type": "code",
   "execution_count": 19,
   "metadata": {},
   "outputs": [
    {
     "data": {
      "image/png": "[encoded data removed]",
      "text/plain": [
       "<matplotlib.figure.Figure at 0x7fe7e0a208d0>"
      ]
     },
     "metadata": {},
     "output_type": "display_data"
    }
   ],
   "source": [
    "training_acc = history_VGG16.history['acc']\n",
    "val_acc = history_VGG16.history['val_acc']\n",
    "\n",
    "plt.plot(training_acc, label=\"training_acc\")\n",
    "plt.plot(val_acc, label=\"validation_acc\")\n",
    "plt.xlabel(\"Epochs\")\n",
    "plt.ylabel(\"Acc\")\n",
    "plt.title(\"Learning Curve\")\n",
    "plt.legend(loc='best')\n",
    "plt.show()"
   ]
  },
  {
   "cell_type": "code",
   "execution_count": null,
   "metadata": {},
   "outputs": [],
   "source": []
  }
 ],
 "metadata": {
  "kernelspec": {
   "display_name": "Python 3",
   "language": "python",
   "name": "python3"
  },
  "language_info": {
   "codemirror_mode": {
    "name": "ipython",
    "version": 3
   },
   "file_extension": ".py",
   "mimetype": "text/x-python",
   "name": "python",
   "nbconvert_exporter": "python",
   "pygments_lexer": "ipython3",
   "version": "3.5.5"
  }
 },
 "nbformat": 4,
 "nbformat_minor": 2
}
